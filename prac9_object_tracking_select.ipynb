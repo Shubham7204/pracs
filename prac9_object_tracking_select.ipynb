{
 "cells": [
  {
   "cell_type": "code",
   "execution_count": 1,
   "id": "d0d070e5-468e-44ab-8c26-165d64847c05",
   "metadata": {},
   "outputs": [
    {
     "name": "stdout",
     "output_type": "stream",
     "text": [
      "Requirement already satisfied: opencv-contrib-python==4.10.0.84 in c:\\users\\hp\\appdata\\local\\programs\\python\\python311\\lib\\site-packages (4.10.0.84)\n",
      "Requirement already satisfied: numpy>=1.21.2 in c:\\users\\hp\\appdata\\local\\programs\\python\\python311\\lib\\site-packages (from opencv-contrib-python==4.10.0.84) (1.26.4)\n",
      "Note: you may need to restart the kernel to use updated packages.\n"
     ]
    },
    {
     "name": "stderr",
     "output_type": "stream",
     "text": [
      "\n",
      "[notice] A new release of pip is available: 24.0 -> 25.1.1\n",
      "[notice] To update, run: python.exe -m pip install --upgrade pip\n"
     ]
    }
   ],
   "source": [
    "pip install opencv-contrib-python==4.10.0.84"
   ]
  },
  {
   "cell_type": "code",
   "execution_count": 2,
   "id": "2fbf7b95-15db-4392-bc70-0f70ac869928",
   "metadata": {},
   "outputs": [],
   "source": [
    "import cv2\n",
    "import numpy as np\n",
    "import matplotlib.pyplot as plt"
   ]
  },
  {
   "cell_type": "code",
   "execution_count": 3,
   "id": "11697a53-c648-4882-a046-3d1d4e0d7da9",
   "metadata": {},
   "outputs": [
    {
     "name": "stdout",
     "output_type": "stream",
     "text": [
      "Select a player by drawing a bounding box and press 'Enter' or 'Space'\n"
     ]
    }
   ],
   "source": [
    "def select_and_track_player(video_path):\n",
    "    cap = cv2.VideoCapture(video_path)\n",
    "    \n",
    "    if not cap.isOpened():\n",
    "        print(\"Error: Could not open video.\")\n",
    "        return\n",
    "    \n",
    "    ret, frame = cap.read()\n",
    "    if not ret:\n",
    "        print(\"Error: Could not read video frame.\")\n",
    "        \n",
    "        return\n",
    "    \n",
    "    print(\"Select a player by drawing a bounding box and press 'Enter' or 'Space'\")\n",
    "    bbox = cv2.selectROI(\"Select Player\", frame, fromCenter=False, showCrosshair=True)\n",
    "    cv2.destroyWindow(\"Select Player\")\n",
    "    \n",
    "    tracker = cv2.TrackerCSRT_create()\n",
    "    tracker.init(frame, bbox)\n",
    "    \n",
    "    return cap, tracker, bbox\n",
    "\n",
    "video_path = 'C:\\\\Users\\\\HP\\\\Downloads\\\\WIN_20250516_20_05_41_Pro.mp4'\n",
    "cap, tracker, initial_bbox = select_and_track_player(video_path)"
   ]
  },
  {
   "cell_type": "code",
   "execution_count": null,
   "id": "81ef462c-389a-4b68-b2f3-5ed9afc1a423",
   "metadata": {},
   "outputs": [],
   "source": [
    "def track_player(cap, tracker):\n",
    "    while True:\n",
    "    \n",
    "        ret, frame = cap.read()\n",
    "        if not ret:\n",
    "            print(\"End of video or error reading frame.\")\n",
    "            break\n",
    "        \n",
    "        success, bbox = tracker.update(frame)\n",
    "        \n",
    "        if success:\n",
    "            x, y, w, h = [int(i) for i in bbox]\n",
    "            cv2.rectangle(frame, (x, y), (x + w, y + h), (0, 255, 0), 2)\n",
    "            cv2.putText(frame, \"Tracking\", (x, y-10), cv2.FONT_HERSHEY_SIMPLEX, \n",
    "                       0.9, (0, 255, 0), 2)\n",
    "        else:\n",
    "            cv2.putText(frame, \"Tracking Failed\", (50, 50), cv2.FONT_HERSHEY_SIMPLEX, \n",
    "                       0.9, (0, 0, 255), 2)\n",
    "        \n",
    "        cv2.imshow(\"Football Player Tracking\", frame)\n",
    "             \n",
    "        if cv2.waitKey(30) & 0xFF == ord('q'):\n",
    "            break\n",
    "   \n",
    "    cap.release()\n",
    "    cv2.destroyAllWindows()\n",
    "\n",
    "track_player(cap, tracker)"
   ]
  }
 ],
 "metadata": {
  "kernelspec": {
   "display_name": "Python 3 (ipykernel)",
   "language": "python",
   "name": "python3"
  },
  "language_info": {
   "codemirror_mode": {
    "name": "ipython",
    "version": 3
   },
   "file_extension": ".py",
   "mimetype": "text/x-python",
   "name": "python",
   "nbconvert_exporter": "python",
   "pygments_lexer": "ipython3",
   "version": "3.11.5"
  }
 },
 "nbformat": 4,
 "nbformat_minor": 5
}
